{
  "cells": [
    {
      "cell_type": "markdown",
      "metadata": {
        "id": "view-in-github",
        "colab_type": "text"
      },
      "source": [
        "<a href=\"https://colab.research.google.com/github/ANUDHEERPARIMI/Computer-Vision/blob/main/KNN_fashion_mnist.ipynb\" target=\"_parent\"><img src=\"https://colab.research.google.com/assets/colab-badge.svg\" alt=\"Open In Colab\"/></a>"
      ]
    },
    {
      "cell_type": "code",
      "execution_count": 37,
      "metadata": {
        "id": "Z7znrhJqKHLY"
      },
      "outputs": [],
      "source": [
        "import numpy as np\n",
        "from tensorflow.keras.datasets import fashion_mnist\n",
        "from sklearn.metrics import accuracy_score"
      ]
    },
    {
      "cell_type": "code",
      "execution_count": 7,
      "metadata": {
        "colab": {
          "base_uri": "https://localhost:8080/"
        },
        "id": "iI2eP8yFKhQ-",
        "outputId": "eda2e01e-9edf-4bb0-bcf4-64fe21939d38"
      },
      "outputs": [
        {
          "output_type": "stream",
          "name": "stdout",
          "text": [
            "Downloading data from https://storage.googleapis.com/tensorflow/tf-keras-datasets/train-labels-idx1-ubyte.gz\n",
            "\u001b[1m29515/29515\u001b[0m \u001b[32m━━━━━━━━━━━━━━━━━━━━\u001b[0m\u001b[37m\u001b[0m \u001b[1m0s\u001b[0m 0us/step\n",
            "Downloading data from https://storage.googleapis.com/tensorflow/tf-keras-datasets/train-images-idx3-ubyte.gz\n",
            "\u001b[1m26421880/26421880\u001b[0m \u001b[32m━━━━━━━━━━━━━━━━━━━━\u001b[0m\u001b[37m\u001b[0m \u001b[1m0s\u001b[0m 0us/step\n",
            "Downloading data from https://storage.googleapis.com/tensorflow/tf-keras-datasets/t10k-labels-idx1-ubyte.gz\n",
            "\u001b[1m5148/5148\u001b[0m \u001b[32m━━━━━━━━━━━━━━━━━━━━\u001b[0m\u001b[37m\u001b[0m \u001b[1m0s\u001b[0m 0us/step\n",
            "Downloading data from https://storage.googleapis.com/tensorflow/tf-keras-datasets/t10k-images-idx3-ubyte.gz\n",
            "\u001b[1m4422102/4422102\u001b[0m \u001b[32m━━━━━━━━━━━━━━━━━━━━\u001b[0m\u001b[37m\u001b[0m \u001b[1m0s\u001b[0m 0us/step\n"
          ]
        }
      ],
      "source": [
        "(X_train, y_train), (X_test, y_test) = fashion_mnist.load_data()"
      ]
    },
    {
      "cell_type": "code",
      "execution_count": 11,
      "metadata": {
        "colab": {
          "base_uri": "https://localhost:8080/"
        },
        "id": "227JVr2AKirc",
        "outputId": "4dfabedd-821a-41af-fc0f-749e5cbbdbb2"
      },
      "outputs": [
        {
          "output_type": "execute_result",
          "data": {
            "text/plain": [
              "(60000, 28, 28)"
            ]
          },
          "metadata": {},
          "execution_count": 11
        }
      ],
      "source": [
        "X_train.shape"
      ]
    },
    {
      "cell_type": "code",
      "execution_count": 13,
      "metadata": {
        "id": "Ukp-ngFWKjJT",
        "colab": {
          "base_uri": "https://localhost:8080/"
        },
        "outputId": "baadd35a-37e1-4d36-fcaa-df58a4baa8d7"
      },
      "outputs": [
        {
          "output_type": "execute_result",
          "data": {
            "text/plain": [
              "(60000,)"
            ]
          },
          "metadata": {},
          "execution_count": 13
        }
      ],
      "source": [
        "y_train.shape"
      ]
    },
    {
      "cell_type": "code",
      "source": [
        "X_train=X_train.reshape(len(X_train),-1)"
      ],
      "metadata": {
        "id": "cITeyLk5g1jQ"
      },
      "execution_count": 18,
      "outputs": []
    },
    {
      "cell_type": "code",
      "source": [
        "X_train.shape"
      ],
      "metadata": {
        "colab": {
          "base_uri": "https://localhost:8080/"
        },
        "id": "juCvc0oWiF_C",
        "outputId": "61f9aada-aa06-4e5f-d111-ddb45290bf34"
      },
      "execution_count": 19,
      "outputs": [
        {
          "output_type": "execute_result",
          "data": {
            "text/plain": [
              "(60000, 784)"
            ]
          },
          "metadata": {},
          "execution_count": 19
        }
      ]
    },
    {
      "cell_type": "code",
      "source": [
        "X_train"
      ],
      "metadata": {
        "colab": {
          "base_uri": "https://localhost:8080/"
        },
        "id": "w-qHSMO5iIar",
        "outputId": "82233f1f-4781-44ab-e501-69c94eaf839f"
      },
      "execution_count": 20,
      "outputs": [
        {
          "output_type": "execute_result",
          "data": {
            "text/plain": [
              "array([[0, 0, 0, ..., 0, 0, 0],\n",
              "       [0, 0, 0, ..., 0, 0, 0],\n",
              "       [0, 0, 0, ..., 0, 0, 0],\n",
              "       ...,\n",
              "       [0, 0, 0, ..., 0, 0, 0],\n",
              "       [0, 0, 0, ..., 0, 0, 0],\n",
              "       [0, 0, 0, ..., 0, 0, 0]], dtype=uint8)"
            ]
          },
          "metadata": {},
          "execution_count": 20
        }
      ]
    },
    {
      "cell_type": "code",
      "source": [
        "X_train = X_train.reshape(len(X_train), -1).astype(\"float32\") / 255.0\n",
        "X_test  = X_test.reshape(len(X_test), -1).astype(\"float32\") / 255.0"
      ],
      "metadata": {
        "id": "sLZsWFGjiwqD"
      },
      "execution_count": 21,
      "outputs": []
    },
    {
      "cell_type": "code",
      "source": [
        "X_train_small = X_train[:2000]\n",
        "y_train_small = y_train[:2000]\n",
        "X_test_small  = X_test[:200]\n",
        "y_test_small  = y_test[:200]"
      ],
      "metadata": {
        "id": "BR6lM4oAi4h0"
      },
      "execution_count": 22,
      "outputs": []
    },
    {
      "cell_type": "code",
      "source": [
        "def eucladian(a,b):\n",
        "  return np.sqrt(np.sum((a-b)**2,axis=1))"
      ],
      "metadata": {
        "id": "cBs9LQ4yi83k"
      },
      "execution_count": 50,
      "outputs": []
    },
    {
      "cell_type": "code",
      "source": [
        "def knn(X_train,X_test,y_train,k=5):\n",
        "  distances=eucladian(X_train,X_test)\n",
        "  k_idx=np.argsort(distances)[:k]\n",
        "  k_labels=y_train[k_idx]\n",
        "  values, counts = np.unique(k_labels, return_counts=True)\n",
        "  return values[np.argmax(counts)]\n"
      ],
      "metadata": {
        "id": "DAkeUf3zjBgJ"
      },
      "execution_count": 51,
      "outputs": []
    },
    {
      "cell_type": "code",
      "source": [
        "def knn_predict_batch(X_train, y_train, X_test, k=5):\n",
        "    preds = []\n",
        "    for x in X_test:\n",
        "        preds.append(knn(X_train, x, y_train, k))\n",
        "\n",
        "    return np.array(preds)"
      ],
      "metadata": {
        "id": "OF0V1TEhlUMB"
      },
      "execution_count": 52,
      "outputs": []
    },
    {
      "cell_type": "code",
      "source": [
        "y_pred = knn_predict_batch(X_train_small, y_train_small, X_test_small, k=5)"
      ],
      "metadata": {
        "id": "i5kr6-xQlY7n"
      },
      "execution_count": 53,
      "outputs": []
    },
    {
      "cell_type": "code",
      "source": [
        "acc = accuracy_score(y_test_small, y_pred)\n",
        "print(f\"KNN (scratch) accuracy: {acc:.4f}\")"
      ],
      "metadata": {
        "colab": {
          "base_uri": "https://localhost:8080/"
        },
        "id": "P_jkTF4lle_-",
        "outputId": "87c5117b-a46a-4f0d-ad16-efeb44585c53"
      },
      "execution_count": 54,
      "outputs": [
        {
          "output_type": "stream",
          "name": "stdout",
          "text": [
            "KNN (scratch) accuracy: 0.8100\n"
          ]
        }
      ]
    },
    {
      "cell_type": "code",
      "source": [
        "def manhattan_distance(x1, x2):\n",
        "    return np.sum(np.abs(x1 - x2), axis=1)"
      ],
      "metadata": {
        "id": "OgOzVMeJmNqp"
      },
      "execution_count": 55,
      "outputs": []
    },
    {
      "cell_type": "code",
      "source": [
        "def knn_manhattan_distance(X_train,X_test,y_train,k=5):\n",
        "  distance=manhattan_distance(X_train,X_test)\n",
        "  k_idx=np.argsort(distance)[:k]\n",
        "  k_labels=y_train[k_idx]\n",
        "  values,counts=np.unique(k_labels,return_counts=k)\n",
        "  return values[np.argmax(counts)]\n",
        ""
      ],
      "metadata": {
        "id": "Y5rr2F0lnvIk"
      },
      "execution_count": 56,
      "outputs": []
    },
    {
      "cell_type": "code",
      "source": [
        "def knn_predict_batch(X_train, y_train, X_test, k=5):\n",
        "    preds = []\n",
        "    for x in X_test:\n",
        "        preds.append(knn(X_train, x, y_train, k))\n",
        "\n",
        "    return np.array(preds)"
      ],
      "metadata": {
        "id": "VKGJ7yRIyaFz"
      },
      "execution_count": 57,
      "outputs": []
    },
    {
      "cell_type": "code",
      "source": [
        "y_pred = knn_predict_batch(X_train_small, y_train_small, X_test_small, k=5)"
      ],
      "metadata": {
        "id": "0Pr_ynvdyclG"
      },
      "execution_count": 58,
      "outputs": []
    },
    {
      "cell_type": "code",
      "source": [
        "acc = accuracy_score(y_test_small, y_pred)\n",
        "print(f\"KNN (scratch) accuracy: {acc:.4f}\")"
      ],
      "metadata": {
        "colab": {
          "base_uri": "https://localhost:8080/"
        },
        "id": "kTEC0gAHyeH8",
        "outputId": "22ebd592-2c8f-4e8b-ac01-4565a4f4c979"
      },
      "execution_count": 59,
      "outputs": [
        {
          "output_type": "stream",
          "name": "stdout",
          "text": [
            "KNN (scratch) accuracy: 0.8100\n"
          ]
        }
      ]
    },
    {
      "cell_type": "code",
      "source": [],
      "metadata": {
        "id": "kSnRC0HUygUI"
      },
      "execution_count": null,
      "outputs": []
    }
  ],
  "metadata": {
    "colab": {
      "provenance": [],
      "authorship_tag": "ABX9TyPRBdF2Ldl6KnKhpiWT5UBZ",
      "include_colab_link": true
    },
    "kernelspec": {
      "display_name": "Python 3",
      "name": "python3"
    },
    "language_info": {
      "name": "python"
    }
  },
  "nbformat": 4,
  "nbformat_minor": 0
}